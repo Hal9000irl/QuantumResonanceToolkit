{
 "cells": [
  {
   "cell_type": "markdown",
   "metadata": {},
   "source": [
    "# Quantum Resonance Toolkit Tutorial\n",
    "\n",
    "Team-built guide to running basic sims. Load this in Colab for free execution."
   ]
  },
  {
   "cell_type": "code",
   "execution_count": null,
   "metadata": {},
   "outputs": [],
   "source": [
    "!pip install qutip numpy scipy matplotlib\n",
    "\n",
    "# Copy-paste chaos_quantum_sim.py code here and run\n",
    "# [Paste the code from file 1]\n",
    "\n",
    "# Output: Expect fusion ~0.4 and plots."
   ]
  },
  {
   "cell_type": "code",
   "execution_count": null,
   "metadata": {},
   "outputs": [],
   "source": [
    "# Copy-paste eeg_quantum_demo.py code here and run\n",
    "# [Paste the code from file 2]\n",
    "\n",
    "# Output: EEG plot and coherence ~0.2-0.5."
   ]
  },
  {
   "cell_type": "markdown",
   "metadata": {},
   "source": [
    "## Next Steps\n",
    "For full anesthetic benchmarking or real EEG, contact our team for premium consulting."
   ]
  }
 ],
 "metadata": {
  "kernelspec": {
   "display_name": "Python 3",
   "language": "python",
   "name": "python3"
  },
  "language_info": {
   "codemirror_mode": {
    "name": "ipython",
    "version": 3
   },
   "file_extension": ".py",
   "mimetype": "text/x-python",
   "name": "python",
   "nbconvert_exporter": "python",
   "pygments_lexer": "ipython3",
   "version": "3.12.3"
  }
 },
 "nbformat": 4,
 "nbformat_minor": 2
}